{
 "cells": [
  {
   "cell_type": "code",
   "execution_count": 1,
   "metadata": {},
   "outputs": [
    {
     "data": {
      "text/plain": [
       "{'businessID': 'B408037852',\n",
       " 'categories': [u\"Women's Clothing Store\",\n",
       "  u'Fashion Accessories Store',\n",
       "  u'Shoe Store'],\n",
       " 'rating': 5.0,\n",
       " 'reviewHash': 'R471510664',\n",
       " 'reviewText': u\"This is where i go to shop for gifts from my mom. She loves this stuff. Cna't get enough. I like that you can customize the items. Store is well alid out and shoppable.\",\n",
       " 'reviewTime': u'Mar 24, 2013',\n",
       " 'unixReviewTime': 1364143460,\n",
       " 'userID': 'U093387342'}"
      ]
     },
     "execution_count": 1,
     "metadata": {},
     "output_type": "execute_result"
    }
   ],
   "source": [
    "import pickle\n",
    "import numpy as np\n",
    "from collections import defaultdict\n",
    "def ParseDataFromFile(f):\n",
    "    for l in open(f):\n",
    "        yield eval(l)\n",
    "data=list(ParseDataFromFile(\"train.json\"))\n",
    "data[0]"
   ]
  },
  {
   "cell_type": "code",
   "execution_count": 2,
   "metadata": {
    "collapsed": true
   },
   "outputs": [],
   "source": [
    "dusertimes={} #18793 users\n",
    "mapU2number=[]\n",
    "j=0\n",
    "for i in data:\n",
    "    if i['userID'] not in dusertimes:\n",
    "        mapU2number.append(i['userID'])\n",
    "        dusertimes[i['userID']]=1\n",
    "        j+=1\n",
    "    else:\n",
    "        dusertimes[i['userID']]+=1\n",
    "dU2number={}\n",
    "for k,v in dusertimes.iteritems():\n",
    "    try:\n",
    "        dU2number[mapU2number.index(k)]=v\n",
    "    except:\n",
    "        print k\n"
   ]
  },
  {
   "cell_type": "code",
   "execution_count": 3,
   "metadata": {
    "collapsed": true
   },
   "outputs": [],
   "source": [
    "#21321 business\n",
    "dbusinesstimes={} #21321 business 'B758492670': 8, 'B216830637': 4, 'B109727892': 7,\n",
    "mapB2number=[]#'B408037852','B410583770','B423621081','B088348224',\n",
    "j=0\n",
    "for i in data:\n",
    "    if i['businessID'] not in dbusinesstimes:\n",
    "        mapB2number.append(i['businessID'])\n",
    "        dbusinesstimes[i['businessID']]=1\n",
    "        j+=1\n",
    "    else:\n",
    "        dbusinesstimes[i['businessID']]+=1\n",
    "dB2number={}#0: 6, 1: 21, 2: 67, 3: 32, 4: 89,\n",
    "for k,v in dbusinesstimes.iteritems():\n",
    "    try:\n",
    "        dB2number[mapB2number.index(k)]=v\n",
    "    except:\n",
    "        print k"
   ]
  },
  {
   "cell_type": "code",
   "execution_count": 7,
   "metadata": {
    "collapsed": true
   },
   "outputs": [],
   "source": [
    "dUB = defaultdict(set)\n",
    "for l in data:\n",
    "    user,business = mapU2number.index(l['userID']),mapB2number.index(l['businessID'])\n",
    "    dUB[user].add(business)"
   ]
  },
  {
   "cell_type": "code",
   "execution_count": 30,
   "metadata": {
    "collapsed": true
   },
   "outputs": [],
   "source": [
    "def knn(d,k):\n",
    "    rows=len(d)\n",
    "    ans=[[0]*k for i in range(len(d))]\n",
    "    for i in range(rows):\n",
    "        recordcommon=[0]*rows\n",
    "        for j in range(rows):\n",
    "            distance=len(d[i]&d[j])\n",
    "            recordcommon[j]=distance\n",
    "        for m in range(k):\n",
    "            maxtmp=max(recordcommon)\n",
    "            ans[i][m]=recordcommon.index(maxtmp)\n",
    "            recordcommon[recordcommon.index(maxtmp)]=0\n",
    "    return ans"
   ]
  },
  {
   "cell_type": "code",
   "execution_count": 31,
   "metadata": {
    "collapsed": true
   },
   "outputs": [],
   "source": [
    "ans=knnU=knn(dUB,5)"
   ]
  },
  {
   "cell_type": "code",
   "execution_count": null,
   "metadata": {
    "collapsed": true
   },
   "outputs": [],
   "source": [
    "X=[]\n",
    "Y=[]\n",
    "for user in range(1000):#len(dUB)): #18793\n",
    "    friend={}\n",
    "    w1=len(dUB[user])/10.642260416112382\n",
    "    for neighor in ans[user]:\n",
    "        for item in dUB[neighor]:\n",
    "            if item not in friend:\n",
    "                friend[item]=1.0/len(dUB[neighor])\n",
    "            else:\n",
    "                friend[item]+=1.0/len(dUB[neighor])\n",
    "    for i in friend:\n",
    "        X.append([1,friend[i]/w1])\n",
    "        Y.append(1 if i in dUB[user] else 0)"
   ]
  }
 ],
 "metadata": {
  "kernelspec": {
   "display_name": "Python 3",
   "language": "python",
   "name": "python3"
  },
  "language_info": {
   "codemirror_mode": {
    "name": "ipython",
    "version": 3
   },
   "file_extension": ".py",
   "mimetype": "text/x-python",
   "name": "python",
   "nbconvert_exporter": "python",
   "pygments_lexer": "ipython3",
   "version": "3.6.2"
  }
 },
 "nbformat": 4,
 "nbformat_minor": 2
}
